{
 "cells": [
  {
   "cell_type": "code",
   "execution_count": 1,
   "id": "9a2c4fd9",
   "metadata": {},
   "outputs": [
    {
     "name": "stdout",
     "output_type": "stream",
     "text": [
      "('spoon', 'plates', 'knife', 'fork')\n"
     ]
    }
   ],
   "source": [
    "KitchenItems =('spoon', 'plates','knife', 'fork')\n",
    "print(KitchenItems)"
   ]
  },
  {
   "cell_type": "code",
   "execution_count": 3,
   "id": "2b212933",
   "metadata": {},
   "outputs": [
    {
     "name": "stdout",
     "output_type": "stream",
     "text": [
      "4\n"
     ]
    }
   ],
   "source": [
    "print(len(KitchenItems))"
   ]
  },
  {
   "cell_type": "code",
   "execution_count": 1,
   "id": "f45bc0aa",
   "metadata": {},
   "outputs": [
    {
     "name": "stdout",
     "output_type": "stream",
     "text": [
      "spoon\n"
     ]
    }
   ],
   "source": [
    "KitchenItems =('spoon', 'plates','knife', 'fork')\n",
    "print(KitchenItems[0])"
   ]
  },
  {
   "cell_type": "code",
   "execution_count": 7,
   "id": "58283edc",
   "metadata": {},
   "outputs": [
    {
     "name": "stdout",
     "output_type": "stream",
     "text": [
      "('efg', 22, 'true', 60, 'female')\n"
     ]
    }
   ],
   "source": [
    "utensils = ('efg', 22, 'true', 60, 'female')\n",
    "print(utensils)"
   ]
  },
  {
   "cell_type": "code",
   "execution_count": 8,
   "id": "4b33c91b",
   "metadata": {},
   "outputs": [
    {
     "name": "stdout",
     "output_type": "stream",
     "text": [
      "('rice', 'indomie', 'garri')\n",
      "(1, 3, 5)\n",
      "('female', 'male', 'male')\n"
     ]
    }
   ],
   "source": [
    "chef1 = ('rice', 'indomie', 'garri',)\n",
    "chef2 = (1,3,5,)\n",
    "chef3 =('female','male', 'male',)\n",
    "\n",
    "print(chef1)\n",
    "print(chef2)\n",
    "print(chef3)"
   ]
  },
  {
   "cell_type": "code",
   "execution_count": 10,
   "id": "929d2f29",
   "metadata": {},
   "outputs": [
    {
     "name": "stdout",
     "output_type": "stream",
     "text": [
      "('spoon', 'plates', 'knife', 'fork')\n"
     ]
    }
   ],
   "source": [
    "print(KitchenItems)"
   ]
  },
  {
   "cell_type": "code",
   "execution_count": 11,
   "id": "6e91580c",
   "metadata": {},
   "outputs": [
    {
     "name": "stdout",
     "output_type": "stream",
     "text": [
      "knife\n"
     ]
    }
   ],
   "source": [
    "print(KitchenItems[2])"
   ]
  },
  {
   "cell_type": "code",
   "execution_count": 13,
   "id": "25825970",
   "metadata": {},
   "outputs": [
    {
     "name": "stdout",
     "output_type": "stream",
     "text": [
      "knife\n"
     ]
    }
   ],
   "source": [
    "print(KitchenItems[-2])"
   ]
  },
  {
   "cell_type": "code",
   "execution_count": 14,
   "id": "728ae409",
   "metadata": {},
   "outputs": [
    {
     "name": "stdout",
     "output_type": "stream",
     "text": [
      "('spoon', 'plates')\n"
     ]
    }
   ],
   "source": [
    "print(KitchenItems[:2])"
   ]
  },
  {
   "cell_type": "code",
   "execution_count": 2,
   "id": "cee66e33",
   "metadata": {
    "scrolled": true
   },
   "outputs": [
    {
     "name": "stdout",
     "output_type": "stream",
     "text": [
      "('spoon', 'knife', 'fork')\n"
     ]
    }
   ],
   "source": [
    "Cuttlery = ('spoon', 'knife', 'fork')\n",
    "print(Cuttlery)"
   ]
  },
  {
   "cell_type": "code",
   "execution_count": 3,
   "id": "77e11bb9",
   "metadata": {},
   "outputs": [
    {
     "ename": "SyntaxError",
     "evalue": "invalid syntax (3621300370.py, line 3)",
     "output_type": "error",
     "traceback": [
      "\u001b[1;36m  File \u001b[1;32m\"C:\\Users\\USER\\AppData\\Local\\Temp\\ipykernel_22284\\3621300370.py\"\u001b[1;36m, line \u001b[1;32m3\u001b[0m\n\u001b[1;33m    print('Yes,'spoon' is in the Cuttlery tuple')\u001b[0m\n\u001b[1;37m                ^\u001b[0m\n\u001b[1;31mSyntaxError\u001b[0m\u001b[1;31m:\u001b[0m invalid syntax\n"
     ]
    }
   ],
   "source": [
    "KitchenItems =('spoon', 'plates','knife', 'fork')\n",
    "if 'spoon' in KitchenItems:\n",
    "    print('Yes,'spoon' is in the Cuttlery tuple')"
   ]
  },
  {
   "cell_type": "code",
   "execution_count": 4,
   "id": "b28904ea",
   "metadata": {},
   "outputs": [
    {
     "name": "stdout",
     "output_type": "stream",
     "text": [
      "('spoon', 'plates', 'fork')\n"
     ]
    }
   ],
   "source": [
    "x =('spoon', 'plates','knife',)\n",
    "y = list(x)\n",
    "y[2] = 'fork'\n",
    "x = tuple(y)\n",
    "print(x)"
   ]
  },
  {
   "cell_type": "code",
   "execution_count": 5,
   "id": "c94dc858",
   "metadata": {
    "scrolled": true
   },
   "outputs": [
    {
     "name": "stdout",
     "output_type": "stream",
     "text": [
      "('spoon', 'plates', 'knife', 'fork', 'pot')\n"
     ]
    }
   ],
   "source": [
    "KitchenItems =('spoon', 'plates','knife', 'fork')\n",
    "y =list(KitchenItems)\n",
    "y.append('pot')\n",
    "KitchenItems = tuple(y)\n",
    "print(KitchenItems)"
   ]
  },
  {
   "cell_type": "code",
   "execution_count": 7,
   "id": "faf3db31",
   "metadata": {},
   "outputs": [
    {
     "name": "stdout",
     "output_type": "stream",
     "text": [
      "('spoon', 'plates', 'knife', 'fork', 'pot')\n"
     ]
    }
   ],
   "source": [
    "KitchenItems=('spoon', 'plates','knife', 'fork')\n",
    "y = ('pot',)\n",
    "KitchenItems +=y\n",
    "print(KitchenItems)"
   ]
  },
  {
   "cell_type": "code",
   "execution_count": 8,
   "id": "be4be418",
   "metadata": {},
   "outputs": [
    {
     "name": "stdout",
     "output_type": "stream",
     "text": [
      "('plates', 'knife', 'fork')\n"
     ]
    }
   ],
   "source": [
    "KitchenItems =('spoon', 'plates','knife', 'fork')\n",
    "y =list(KitchenItems)\n",
    "y .remove('spoon')\n",
    "KitchenItems = tuple(y)\n",
    "print(KitchenItems)\n"
   ]
  },
  {
   "cell_type": "code",
   "execution_count": 9,
   "id": "939083b2",
   "metadata": {},
   "outputs": [
    {
     "ename": "NameError",
     "evalue": "name 'KitchenItems' is not defined",
     "output_type": "error",
     "traceback": [
      "\u001b[1;31m---------------------------------------------------------------------------\u001b[0m",
      "\u001b[1;31mNameError\u001b[0m                                 Traceback (most recent call last)",
      "\u001b[1;32m~\\AppData\\Local\\Temp\\ipykernel_22284\\753013850.py\u001b[0m in \u001b[0;36m<module>\u001b[1;34m\u001b[0m\n\u001b[0;32m      1\u001b[0m \u001b[0mKitchenItems\u001b[0m \u001b[1;33m=\u001b[0m\u001b[1;33m(\u001b[0m\u001b[1;34m'spoon'\u001b[0m\u001b[1;33m,\u001b[0m \u001b[1;34m'plates'\u001b[0m\u001b[1;33m,\u001b[0m\u001b[1;34m'knife'\u001b[0m\u001b[1;33m,\u001b[0m \u001b[1;34m'fork'\u001b[0m\u001b[1;33m)\u001b[0m\u001b[1;33m\u001b[0m\u001b[1;33m\u001b[0m\u001b[0m\n\u001b[0;32m      2\u001b[0m \u001b[1;32mdel\u001b[0m \u001b[0mKitchenItems\u001b[0m\u001b[1;33m\u001b[0m\u001b[1;33m\u001b[0m\u001b[0m\n\u001b[1;32m----> 3\u001b[1;33m \u001b[0mprint\u001b[0m\u001b[1;33m(\u001b[0m\u001b[0mKitchenItems\u001b[0m\u001b[1;33m)\u001b[0m\u001b[1;33m\u001b[0m\u001b[1;33m\u001b[0m\u001b[0m\n\u001b[0m",
      "\u001b[1;31mNameError\u001b[0m: name 'KitchenItems' is not defined"
     ]
    }
   ],
   "source": [
    "KitchenItems =('spoon', 'plates','knife', 'fork')\n",
    "del KitchenItems\n",
    "print(KitchenItems)"
   ]
  },
  {
   "cell_type": "code",
   "execution_count": 11,
   "id": "c5b7be69",
   "metadata": {},
   "outputs": [
    {
     "ename": "NameError",
     "evalue": "name 'KitchenItems' is not defined",
     "output_type": "error",
     "traceback": [
      "\u001b[1;31m---------------------------------------------------------------------------\u001b[0m",
      "\u001b[1;31mNameError\u001b[0m                                 Traceback (most recent call last)",
      "\u001b[1;32m~\\AppData\\Local\\Temp\\ipykernel_22284\\3594184564.py\u001b[0m in \u001b[0;36m<module>\u001b[1;34m\u001b[0m\n\u001b[1;32m----> 1\u001b[1;33m \u001b[0mprint\u001b[0m\u001b[1;33m(\u001b[0m\u001b[0mKitchenItems\u001b[0m\u001b[1;33m)\u001b[0m\u001b[1;33m\u001b[0m\u001b[1;33m\u001b[0m\u001b[0m\n\u001b[0m",
      "\u001b[1;31mNameError\u001b[0m: name 'KitchenItems' is not defined"
     ]
    }
   ],
   "source": [
    "print(KitchenItems)"
   ]
  },
  {
   "cell_type": "code",
   "execution_count": 12,
   "id": "217e2a56",
   "metadata": {},
   "outputs": [
    {
     "name": "stdout",
     "output_type": "stream",
     "text": [
      "spoon\n",
      "knife\n",
      "fork\n"
     ]
    }
   ],
   "source": [
    "Cuttlery = ('spoon', 'knife', 'fork')\n",
    "(black ,grey, silver) = Cuttlery\n",
    "print(black)\n",
    "print(grey)\n",
    "print(silver)"
   ]
  },
  {
   "cell_type": "code",
   "execution_count": 13,
   "id": "1d9a8c4f",
   "metadata": {},
   "outputs": [
    {
     "name": "stdout",
     "output_type": "stream",
     "text": [
      "spoon\n",
      "knife\n",
      "fork\n"
     ]
    }
   ],
   "source": [
    "Cuttlery = ('spoon', 'knife', 'fork')\n",
    "for x in Cuttlery:\n",
    "    print(x)"
   ]
  },
  {
   "cell_type": "code",
   "execution_count": 14,
   "id": "fe7d6659",
   "metadata": {},
   "outputs": [
    {
     "name": "stdout",
     "output_type": "stream",
     "text": [
      "('rice', 'indomie', 'garri', 1, 3, 5, 'female', 'male', 'male')\n"
     ]
    }
   ],
   "source": [
    "chef1 = ('rice', 'indomie', 'garri',)\n",
    "chef2 = (1,3,5,)\n",
    "chef3 =('female','male', 'male',)\n",
    "chef4 =chef1 + chef2 + chef3\n",
    "print(chef4)"
   ]
  },
  {
   "cell_type": "code",
   "execution_count": 15,
   "id": "59c0784c",
   "metadata": {},
   "outputs": [
    {
     "name": "stdout",
     "output_type": "stream",
     "text": [
      "('spoon', 'knife', 'fork', 'spoon', 'knife', 'fork')\n"
     ]
    }
   ],
   "source": [
    "Cuttlery = ('spoon', 'knife', 'fork')\n",
    "kitchenUtensil = Cuttlery *2\n",
    "print(kitchenUtensil)"
   ]
  },
  {
   "cell_type": "code",
   "execution_count": null,
   "id": "1213da88",
   "metadata": {},
   "outputs": [],
   "source": []
  }
 ],
 "metadata": {
  "kernelspec": {
   "display_name": "Python 3 (ipykernel)",
   "language": "python",
   "name": "python3"
  },
  "language_info": {
   "codemirror_mode": {
    "name": "ipython",
    "version": 3
   },
   "file_extension": ".py",
   "mimetype": "text/x-python",
   "name": "python",
   "nbconvert_exporter": "python",
   "pygments_lexer": "ipython3",
   "version": "3.9.13"
  }
 },
 "nbformat": 4,
 "nbformat_minor": 5
}
